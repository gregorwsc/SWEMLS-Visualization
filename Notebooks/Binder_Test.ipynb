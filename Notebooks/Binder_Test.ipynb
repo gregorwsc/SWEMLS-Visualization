{
 "cells": [
  {
   "cell_type": "code",
   "execution_count": 2,
   "metadata": {},
   "outputs": [
    {
     "ename": "ModuleNotFoundError",
     "evalue": "No module named 'rdflib'",
     "output_type": "error",
     "traceback": [
      "\u001b[0;31m---------------------------------------------------------------------------\u001b[0m",
      "\u001b[0;31mModuleNotFoundError\u001b[0m                       Traceback (most recent call last)",
      "\u001b[0;32m<ipython-input-2-5d9a9b252cc2>\u001b[0m in \u001b[0;36m<module>\u001b[0;34m\u001b[0m\n\u001b[1;32m      2\u001b[0m \u001b[0;32mfrom\u001b[0m \u001b[0mIPython\u001b[0m\u001b[0;34m.\u001b[0m\u001b[0mdisplay\u001b[0m \u001b[0;32mimport\u001b[0m \u001b[0mdisplay\u001b[0m\u001b[0;34m,\u001b[0m \u001b[0mclear_output\u001b[0m\u001b[0;34m\u001b[0m\u001b[0;34m\u001b[0m\u001b[0m\n\u001b[1;32m      3\u001b[0m \u001b[0;32mimport\u001b[0m \u001b[0mos\u001b[0m\u001b[0;34m\u001b[0m\u001b[0;34m\u001b[0m\u001b[0m\n\u001b[0;32m----> 4\u001b[0;31m \u001b[0;32mfrom\u001b[0m \u001b[0mrdflib\u001b[0m \u001b[0;32mimport\u001b[0m \u001b[0mGraph\u001b[0m\u001b[0;34m\u001b[0m\u001b[0;34m\u001b[0m\u001b[0m\n\u001b[0m\u001b[1;32m      5\u001b[0m \u001b[0;34m\u001b[0m\u001b[0m\n\u001b[1;32m      6\u001b[0m \u001b[0;31m# === Globals ===\u001b[0m\u001b[0;34m\u001b[0m\u001b[0;34m\u001b[0m\u001b[0;34m\u001b[0m\u001b[0m\n",
      "\u001b[0;31mModuleNotFoundError\u001b[0m: No module named 'rdflib'"
     ]
    }
   ],
   "source": [
    "import ipywidgets as widgets\n",
    "from IPython.display import display, clear_output\n",
    "import os\n",
    "\n",
    "# === Globale Variablen ===\n",
    "instance_file_path = None\n",
    "output = widgets.Output()\n",
    "\n",
    "# === Auswahlfeld ===\n",
    "option_selector = widgets.ToggleButtons(\n",
    "    options=[(\"Use example file\", \"example\"), (\"Upload your own\", \"upload\")],\n",
    "    description=\"Select input:\",\n",
    "    style={'description_width': 'initial'}\n",
    ")\n",
    "\n",
    "# === Upload-Widget (immer sichtbar) ===\n",
    "upload_widget = widgets.FileUpload(\n",
    "    accept='.ttl',\n",
    "    multiple=False,\n",
    "    description='Upload TTL file'\n",
    ")\n",
    "\n",
    "# === Continue-Button ===\n",
    "continue_button = widgets.Button(description=\"Continue\", button_style='primary')\n",
    "\n",
    "# === Auswahlhandler ===\n",
    "def on_option_change(change):\n",
    "    output.clear_output()\n",
    "    if change['new'] == \"example\":\n",
    "        global instance_file_path\n",
    "        instance_file_path = \"Instance_Files/swemls-instances.ttl\"\n",
    "        with output:\n",
    "            print(f\"✅ Selected example file: {instance_file_path}\")\n",
    "    elif change['new'] == \"upload\":\n",
    "        with output:\n",
    "            print(\"📤 Please upload your TTL file using the field below.\")\n",
    "\n",
    "option_selector.observe(on_option_change, names='value')\n",
    "\n",
    "# === Upload-Handler ===\n",
    "def on_upload_change(change):\n",
    "    global instance_file_path\n",
    "    uploaded = list(upload_widget.value.values())[0]\n",
    "    instance_file_path = uploaded['metadata']['name']\n",
    "    with open(instance_file_path, 'wb') as f:\n",
    "        f.write(uploaded['content'])\n",
    "    output.clear_output()\n",
    "    with output:\n",
    "        print(f\"✅ File uploaded and saved as: {instance_file_path}\")\n",
    "\n",
    "upload_widget.observe(on_upload_change, names='value')\n",
    "\n",
    "# === Continue-Handler ===\n",
    "def on_continue_clicked(b):\n",
    "    output.clear_output()\n",
    "    if not instance_file_path or not os.path.exists(instance_file_path):\n",
    "        with output:\n",
    "            print(\"❌ No valid file selected or uploaded.\")\n",
    "    else:\n",
    "        with output:\n",
    "            print(f\"📄 Ready to work with: {instance_file_path}\")\n",
    "\n",
    "continue_button.on_click(on_continue_clicked)\n",
    "\n",
    "# === Anzeige aller Elemente ===\n",
    "display(option_selector, upload_widget, continue_button, output)\n"
   ]
  },
  {
   "cell_type": "code",
   "execution_count": null,
   "metadata": {},
   "outputs": [],
   "source": []
  }
 ],
 "metadata": {
  "kernelspec": {
   "display_name": "Python 3",
   "language": "python",
   "name": "python3"
  },
  "language_info": {
   "codemirror_mode": {
    "name": "ipython",
    "version": 3
   },
   "file_extension": ".py",
   "mimetype": "text/x-python",
   "name": "python",
   "nbconvert_exporter": "python",
   "pygments_lexer": "ipython3",
   "version": "3.8.5"
  }
 },
 "nbformat": 4,
 "nbformat_minor": 4
}
