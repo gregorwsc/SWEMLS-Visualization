{
 "cells": [
  {
   "cell_type": "code",
   "execution_count": null,
   "metadata": {},
   "outputs": [],
   "source": [
    "import ipywidgets as widgets\n",
    "from IPython.display import display, clear_output\n",
    "import os\n",
    "\n",
    "# Auswahloption: Beispiel verwenden oder eigene Datei hochladen\n",
    "option_selector = widgets.ToggleButtons(\n",
    "    options=[('Use example instance', 'example'), ('Upload your own', 'upload')],\n",
    "    description='Choose input:',\n",
    "    style={'description_width': 'initial'}\n",
    ")\n",
    "\n",
    "# Upload-Widget für benutzerdefinierte TTL-Datei\n",
    "upload_widget = widgets.FileUpload(\n",
    "    accept='.ttl',\n",
    "    multiple=False,\n",
    "    description='Upload TTL file'\n",
    ")\n",
    "\n",
    "# Output-Bereich für Rückmeldungen\n",
    "output = widgets.Output()\n",
    "\n",
    "# Variable zur Speicherung des ausgewählten Dateipfads\n",
    "instance_file_path = None\n",
    "\n",
    "# Funktion zur Auswahlbehandlung\n",
    "def on_selection_change(change):\n",
    "    output.clear_output()\n",
    "    with output:\n",
    "        if change['new'] == 'example':\n",
    "            global instance_file_path\n",
    "            instance_file_path = os.path.join(\"Instance_Files\", \"swemls-instances.ttl\")\n",
    "            print(f\"✅ Example file selected: {instance_file_path}\")\n",
    "        elif change['new'] == 'upload':\n",
    "            print(\"📁 Please upload your instance TTL file below:\")\n",
    "            display(upload_widget)\n",
    "\n",
    "# Event Listener für die Auswahloptionen\n",
    "option_selector.observe(on_selection_change, names='value')\n",
    "\n",
    "# Funktion zur Behandlung des Dateiuploads\n",
    "def on_file_upload(change):\n",
    "    global instance_file_path\n",
    "    uploaded_file = list(upload_widget.value.values())[0]\n",
    "    instance_file_path = uploaded_file['metadata']['name']\n",
    "    with open(instance_file_path, 'wb') as f:\n",
    "        f.write(uploaded_file['content'])\n",
    "    output.clear_output()\n",
    "    with output:\n",
    "        print(f\"✅ File uploaded and saved as: {instance_file_path}\")\n",
    "\n",
    "upload_widget.observe(on_file_upload, names='value')\n",
    "\n",
    "# Anzeige der UI-Elemente\n",
    "display(option_selector, output)\n"
   ]
  }
 ],
 "metadata": {
  "kernelspec": {
   "display_name": "Python 3",
   "language": "python",
   "name": "python3"
  },
  "language_info": {
   "codemirror_mode": {
    "name": "ipython",
    "version": 3
   },
   "file_extension": ".py",
   "mimetype": "text/x-python",
   "name": "python",
   "nbconvert_exporter": "python",
   "pygments_lexer": "ipython3",
   "version": "3.8.5"
  }
 },
 "nbformat": 4,
 "nbformat_minor": 4
}
